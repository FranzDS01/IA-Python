{
  "nbformat": 4,
  "nbformat_minor": 0,
  "metadata": {
    "colab": {
      "provenance": [],
      "include_colab_link": true
    },
    "kernelspec": {
      "name": "python3",
      "display_name": "Python 3"
    },
    "language_info": {
      "name": "python"
    }
  },
  "cells": [
    {
      "cell_type": "markdown",
      "metadata": {
        "id": "view-in-github",
        "colab_type": "text"
      },
      "source": [
        "<a href=\"https://colab.research.google.com/github/FranzDS01/IA-Python/blob/main/Busqueda_primero_en_anchura_01.ipynb\" target=\"_parent\"><img src=\"https://colab.research.google.com/assets/colab-badge.svg\" alt=\"Open In Colab\"/></a>"
      ]
    },
    {
      "cell_type": "code",
      "execution_count": 26,
      "metadata": {
        "id": "mEs6mnYIegWA"
      },
      "outputs": [],
      "source": [
        "# from google.colab import drive\n",
        "# drive.mount('/content/gdrive/')"
      ]
    },
    {
      "cell_type": "code",
      "source": [
        "# import sys\n",
        "# sys.path.append('/content/gdrive/MyDrive/Colab Notebooks/SIS420/Busquedas')\n",
        "                 \n",
        "# from Nodos import Nodo"
      ],
      "metadata": {
        "id": "8MzZ7atMhWHV"
      },
      "execution_count": 27,
      "outputs": []
    },
    {
      "cell_type": "code",
      "source": [
        "class Nodo:\n",
        "    def __init__(self, estado, hijo=None):\n",
        "        self.estado = estado\n",
        "        self.hijo = None\n",
        "        self.padre = None\n",
        "        self.accion = None\n",
        "        self.acciones = None\n",
        "        self.costo = None\n",
        "        self.set_hijo(hijo)\n",
        "\n",
        "    def set_estado(self, estado):\n",
        "        self.estado = estado\n",
        "\n",
        "    def get_estado(self):\n",
        "        return self.estado\n",
        "\n",
        "    def set_hijo(self, hijo):\n",
        "        self.hijo = hijo\n",
        "        if self.hijo is not None:\n",
        "            for s in self.hijo:\n",
        "                s.padre = self\n",
        "\n",
        "    def get_hijo(self):\n",
        "        return self.hijo\n",
        "    \n",
        "    def set_padre(self, padre):\n",
        "        self.padre = padre\n",
        "\n",
        "    def get_padre(self):\n",
        "        return self.padre\n",
        "    \n",
        "    def set_accion(self, accion):\n",
        "        self.accion = accion\n",
        "\n",
        "    def get_accion(self):\n",
        "        return self.accion\n",
        "\n",
        "    def set_acciones(self, acciones):\n",
        "        self.acciones = acciones\n",
        "\n",
        "    def get_acciones(self):\n",
        "        return self.acciones\n",
        "\n",
        "    def set_costo(self, costo):\n",
        "        self.costo = costo\n",
        "\n",
        "    def get_costo(self):\n",
        "        return self.costo\n",
        "\n",
        "    def equal(self, Nodo):\n",
        "        if self.get_estado() == Nodo.get_estado():\n",
        "            return True\n",
        "        else:\n",
        "            return False\n",
        "\n",
        "    def en_lista(self, lista_nodos):\n",
        "        enlistado = False\n",
        "        for n in lista_nodos:\n",
        "            if self.equal(n):\n",
        "                enlistado = True\n",
        "        return enlistado\n",
        "\n",
        "    def __str__(self):\n",
        "        return str(self.get_estado())"
      ],
      "metadata": {
        "id": "6Y9lmsZjsDkj"
      },
      "execution_count": 28,
      "outputs": []
    },
    {
      "cell_type": "code",
      "source": [
        "def busqueda_BPA_solucion(estado_inicial, solucion):\n",
        "    resuelto = False\n",
        "    nodos_visitados = []\n",
        "    nodos_frontera = []\n",
        "\n",
        "    nodo_raiz = Nodo(estado_inicial)\n",
        "    nodos_frontera.append(nodo_raiz)\n",
        "    while (not resuelto) and len(nodos_frontera) != 0:\n",
        "        nodo_actual = nodos_frontera.pop(0)\n",
        "        # extraer nodo y añadirlo a visitados\n",
        "        nodos_visitados.append(nodo_actual)\n",
        "        if nodo_actual.get_estado() == solucion:\n",
        "            # solucion encontrada\n",
        "            resuelto = True\n",
        "            return nodo_actual\n",
        "        else:\n",
        "            # expandir nodos hijo\n",
        "            estado_nodo = nodo_actual.get_estado()\n",
        "\n",
        "            #modificaciones\n",
        "            nodoTemporal=[] #\n",
        "            NodoHijos=[]# guarda los nuevos hijos generados apartir del nodo actual\n",
        "            contador=0 #Este contador ayuda a que se haga los intercambios desde la posicion correcta\n",
        "            for i in range(len(estado_nodo)-1):#el numero de intercambios siempre sera la cantidad de fichas-1\n",
        "                nodoTemporal=estado_nodo.copy()  #creamos  una copia del nodo actual en el nodo temporal para no modificar el nodo principal\n",
        "                if i==contador:\n",
        "                  #intercambio de fichas\n",
        "                  elementoA=estado_nodo[i]\n",
        "                  elementoB=estado_nodo[i+1]\n",
        "                  nodoTemporal[i]=elementoB\n",
        "                  nodoTemporal[i+1]=elementoA\n",
        "                  contador+=1\n",
        "                  hijo=nodoTemporal.copy()\n",
        "                  #agredos nuevos\n",
        "                  hijo=Nodo(hijo)\n",
        "                  if not hijo.en_lista(nodos_visitados) and not hijo.en_lista(nodos_frontera): #validacion para agregar o no a nodos frontera\n",
        "                      nodos_frontera.append(hijo)\n",
        "                  NodoHijos.append(hijo) #vamos agregando los hijos \n",
        "            nodo_actual.set_hijo(NodoHijos)\n",
        "\n",
        "\n",
        "if __name__ == \"__main__\":\n",
        "    estado_inicial = [1, 5, 2, 0, 4, 3]\n",
        "    solucion = [0, 1, 2, 3, 4, 5]\n",
        "    nodo_solucion = busqueda_BPA_solucion(estado_inicial, solucion)\n",
        "    # mostrar resultado\n",
        "    resultado = []\n",
        "    nodo_actual = nodo_solucion\n",
        "    while nodo_actual.get_padre() is not None:\n",
        "        resultado.append(nodo_actual.get_estado())\n",
        "        nodo_actual = nodo_actual.get_padre()\n",
        "\n",
        "    resultado.append(estado_inicial)\n",
        "    resultado.reverse()\n",
        "    print(resultado)"
      ],
      "metadata": {
        "colab": {
          "base_uri": "https://localhost:8080/"
        },
        "id": "9D_tV0w3fhWl",
        "outputId": "776a90b8-b85b-47e3-eac8-d3dbd0bbceb8"
      },
      "execution_count": 29,
      "outputs": [
        {
          "output_type": "stream",
          "name": "stdout",
          "text": [
            "[[1, 5, 2, 0, 4, 3], [1, 2, 5, 0, 4, 3], [1, 2, 0, 5, 4, 3], [1, 0, 2, 5, 4, 3], [0, 1, 2, 5, 4, 3], [0, 1, 2, 4, 5, 3], [0, 1, 2, 4, 3, 5], [0, 1, 2, 3, 4, 5]]\n"
          ]
        }
      ]
    }
  ]
}